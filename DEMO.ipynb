{
  "nbformat": 4,
  "nbformat_minor": 0,
  "metadata": {
    "colab": {
      "name": "20190416_cartoonize_real_world_images_using_cartoongan_and_tf2.ipynb",
      "provenance": [],
      "collapsed_sections": [],
      "include_colab_link": true
    },
    "kernelspec": {
      "name": "python3",
      "display_name": "Python 3"
    },
    "accelerator": "GPU"
  },
  "cells": [
    {
      "cell_type": "markdown",
      "metadata": {
        "id": "view-in-github",
        "colab_type": "text"
      },
      "source": [
        "<a href=\"https://colab.research.google.com/github/LuigiSigillo/CartoonGAN/blob/main/DEMO.ipynb\" target=\"_parent\"><img src=\"https://colab.research.google.com/assets/colab-badge.svg\" alt=\"Open In Colab\"/></a>"
      ]
    },
    {
      "cell_type": "markdown",
      "metadata": {
        "id": "NvYp8Wrpoi9M"
      },
      "source": [
        "# CartoonGAN-TensorFlow\n",
        "Cartoonize your images using CartoonGAN, powered by TensorFlow 2.0. \n",
        "\n",
        "- [Report](https://leemeng.tw/generate-anime-using-cartoongan-and-tensorflow2-en.html)\n",
        "- [Github repo](https://github.com/LuigiSigillo/CartoonGan)"
      ]
    },
    {
      "cell_type": "markdown",
      "metadata": {
        "id": "zop2YJ9K5MK1"
      },
      "source": [
        "## Clone github  repo\n",
        "This repo contain the Python script that we will use to generate cartoon-style images."
      ]
    },
    {
      "cell_type": "code",
      "metadata": {
        "id": "KVK0kiqcUEh8"
      },
      "source": [
        "import os\n",
        "!git clone https://github.com/LuigiSigillo/CartoonGan.git\n",
        "os.chdir(os.path.join(\"CartoonGan\"))\n",
        "\n",
        "from google.colab import files\n"
      ],
      "execution_count": null,
      "outputs": []
    },
    {
      "cell_type": "markdown",
      "metadata": {
        "id": "vzyC4d477FJp"
      },
      "source": [
        "## Install packages\n",
        "We will need TensorFlow 2.0 "
      ]
    },
    {
      "cell_type": "code",
      "metadata": {
        "id": "AVV2vmOFcfIR"
      },
      "source": [
        "from IPython.display import clear_output, display, Image\r\n",
        "import tensorflow as tf\r\n",
        "!pip install tensorflow_addons\r\n",
        "\r\n",
        "#!pip install tensorflow-gpu==2.4.1\r\n",
        "tf.__version__\r\n"
      ],
      "execution_count": null,
      "outputs": []
    },
    {
      "cell_type": "markdown",
      "metadata": {
        "id": "tw8TnwJZuilg"
      },
      "source": [
        "## Download new images to cartoonize\n",
        "Get url of the image that you wish to transform, and paste it in the form below. You can also keep the default url and see how it work. \n",
        "\n",
        "Supported format of the images:\n",
        "- `.jpg`\n",
        "- `.png`\n"
      ]
    },
    {
      "cell_type": "code",
      "metadata": {
        "id": "cq11iHl2unE8"
      },
      "source": [
        "image_url = 'https://i.imgur.com/ok1wbXo.jpg'  #@param [\"https://i.imgur.com/ok1wbXo.jpg\",\"https://i.imgur.com/gPPKRY8.jpg\"]"
      ],
      "execution_count": null,
      "outputs": []
    },
    {
      "cell_type": "markdown",
      "metadata": {
        "id": "FrZ2PPFMn4kc"
      },
      "source": [
        "Download the image from the web and save it for transformation. You don't need to know all the detail here now."
      ]
    },
    {
      "cell_type": "code",
      "metadata": {
        "id": "QG22Lmj7fCkT"
      },
      "source": [
        "input_image_dir = \"input_images\"\n",
        "output_image_dir = input_image_dir.replace(\"input_\", \"output_\")\n",
        "!mkdir {input_image_dir} && mkdir {output_image_dir}\n",
        "import time\n",
        "if image_url:\n",
        "    img_filename = image_url.split(\"/\")[-1]\n",
        "    name, ext = '.'.join(img_filename.split(\".\")[:-1]), img_filename.split(\".\")[-1]\n",
        "    new_name = '_'.join((name, str(int(time.time()))))\n",
        "    new_img_filename = '.'.join((new_name, ext))\n",
        "    image_path = os.path.join(input_image_dir, new_img_filename)\n",
        "    \n",
        "    !wget {image_url} \\\n",
        "        && mv {img_filename} {new_img_filename} \\\n",
        "        && mv {new_img_filename} {image_path}"
      ],
      "execution_count": null,
      "outputs": []
    },
    {
      "cell_type": "markdown",
      "metadata": {
        "id": "jKnFC1xWkdnU"
      },
      "source": [
        "## The image that we're going to cartoonize"
      ]
    },
    {
      "cell_type": "markdown",
      "metadata": {
        "id": "Ujjh2hnXoL__"
      },
      "source": [
        "If you pasted the correct image url in the previous cell, this part will just show you the downloaded image."
      ]
    },
    {
      "cell_type": "code",
      "metadata": {
        "id": "ggLeaT5GkhHR"
      },
      "source": [
        "display(Image(image_path))\r\n",
        "print(image_path)"
      ],
      "execution_count": null,
      "outputs": []
    },
    {
      "cell_type": "markdown",
      "metadata": {
        "id": "wS_FQmWDukut"
      },
      "source": [
        "## Cartoonize images using Python script\n",
        "Transform the downloaded image using selected style."
      ]
    },
    {
      "cell_type": "code",
      "metadata": {
        "id": "tMwfHOtMrMZ7"
      },
      "source": [
        "styles = \"hayao\" #@param [\"shinkai\", \"hayao\", \"paprika\"]\r\n",
        "#hayao = spirited away\r\n",
        "#shinkai = your name\r\n",
        "\r\n",
        "#files.upload()\r\n",
        "#!ls"
      ],
      "execution_count": null,
      "outputs": []
    },
    {
      "cell_type": "code",
      "metadata": {
        "id": "gXZDnavco7WL"
      },
      "source": [
        "!python \"cartoonize.py\" \\\n",
        "    --styles {styles} \\\n",
        "    --batch_size 1 \\\n",
        "    --comparison_view horizontal"
      ],
      "execution_count": null,
      "outputs": []
    },
    {
      "cell_type": "markdown",
      "metadata": {
        "id": "xUXJJL1Dgntw"
      },
      "source": [
        "## Compare input with the caroonized result"
      ]
    },
    {
      "cell_type": "code",
      "metadata": {
        "id": "uZPv25hzgphl"
      },
      "source": [
        "if img_filename:\n",
        "    result_path = os.path.join(output_image_dir, new_img_filename)\n",
        "print(result_path)\n",
        "!ls output_images\n",
        "\n",
        "display(Image(result_path,width=512, height=512))\n",
        "display(Image(image_path,width=512, height=512))"
      ],
      "execution_count": null,
      "outputs": []
    },
    {
      "cell_type": "markdown",
      "metadata": {
        "id": "SdyQoncIpod_"
      },
      "source": [
        "## Download the result\n"
      ]
    },
    {
      "cell_type": "markdown",
      "metadata": {
        "id": "KwiH8Zbxqrun"
      },
      "source": [
        "To download only the tranformed image , set `include_original_image` to `no`."
      ]
    },
    {
      "cell_type": "code",
      "metadata": {
        "id": "I3FBeu82pqNR"
      },
      "source": [
        "include_original_image = \"no\"  #@param {type: \"string\"}\n",
        "from google.colab import files\n",
        "if include_original_image == \"yes\":\n",
        "    output_image_path = os.path.join(output_image_dir, \"comparison\", new_img_filename)\n",
        "else:\n",
        "    output_image_path = os.path.join(output_image_dir, new_img_filename)\n",
        "files.download(output_image_path)"
      ],
      "execution_count": null,
      "outputs": []
    }
  ]
}